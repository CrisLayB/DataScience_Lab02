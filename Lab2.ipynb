{
 "cells": [
  {
   "attachments": {},
   "cell_type": "markdown",
   "metadata": {},
   "source": [
    "## Laboratorio 2 - Series de Tiempo\n",
    "\n",
    "Universidad del Valle de Guatemala\n",
    "\n",
    "Facultad de Ingeniería\n",
    "\n",
    "Departamento de Ciencias de la Computación\n",
    "\n",
    "Data Science - Sección 10\n",
    "\n",
    "Grupo 12"
   ]
  },
  {
   "cell_type": "code",
   "execution_count": null,
   "metadata": {},
   "outputs": [],
   "source": [
    "# Librerías a utilizar"
   ]
  },
  {
   "attachments": {},
   "cell_type": "markdown",
   "metadata": {},
   "source": [
    "### Limpieza de datos"
   ]
  },
  {
   "attachments": {},
   "cell_type": "markdown",
   "metadata": {},
   "source": [
    "### 1. Análisis Exploratorio"
   ]
  },
  {
   "attachments": {},
   "cell_type": "markdown",
   "metadata": {},
   "source": [
    "### 2. Series en donde se trabajara\n",
    "\n",
    "- Consumo mensual de gasolina super, gasolina regular, diésel y gas licuado (Se encuentra en \"ConsumoGasolina.ipynb\")"
   ]
  }
 ],
 "metadata": {
  "language_info": {
   "name": "python"
  },
  "orig_nbformat": 4
 },
 "nbformat": 4,
 "nbformat_minor": 2
}
